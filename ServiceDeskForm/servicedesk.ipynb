{
 "cells": [
  {
   "cell_type": "code",
   "execution_count": 1,
   "metadata": {},
   "outputs": [],
   "source": [
    "from application.database import FirewallRule\n",
    "from application.database import Citrix\n",
    "from dataclasses import dataclass\n",
    "# import urllib3\n",
    "import urllib\n",
    "import json\n",
    "import requests\n",
    "requests.packages.urllib3.disable_warnings()\n"
   ]
  },
  {
   "attachments": {},
   "cell_type": "markdown",
   "metadata": {},
   "source": [
    "Khai Class"
   ]
  },
  {
   "cell_type": "code",
   "execution_count": 2,
   "metadata": {},
   "outputs": [],
   "source": [
    "class HoTroCntt:\n",
    "    def __init__(self, url, authtoken) -> None:\n",
    "        self.url = url\n",
    "        self.authtoken = authtoken\n",
    "\n",
    "    def api_get(self, endpoint=None, params=None, data=None):\n",
    "        try:\n",
    "            url = f\"https://{self.url}/{endpoint}\"\n",
    "            headers = {\"authtoken\": self.authtoken}\n",
    "            response = requests.get(\n",
    "                url, headers=headers, params=params, data=data, verify=False\n",
    "            )\n",
    "            response.raise_for_status()\n",
    "            return response.json()\n",
    "        except requests.exceptions.RequestException as e:\n",
    "            return e\n",
    "\n",
    "    def api_post(self, endpoint, data):\n",
    "        try:\n",
    "            url = f\"https://{self.url}/{endpoint}\"\n",
    "            headers = {\"authtoken\": self.authtoken}\n",
    "            response = requests.post(url, headers=headers, data=data, verify=False)\n",
    "            response.raise_for_status()\n",
    "            return response.json()\n",
    "        except requests.exceptions.RequestException as e:\n",
    "            return e\n",
    "\n",
    "    def api_delete(self, endpoint, data):\n",
    "        try:\n",
    "            url = f\"https://{self.url}/{endpoint}\"\n",
    "            headers = {\"authtoken\": self.authtoken}\n",
    "            response = requests.delete(url, headers=headers, data=data, verify=False)\n",
    "            response.raise_for_status()\n",
    "            return response.json()\n",
    "        except requests.exceptions.RequestException as e:\n",
    "            return e\n",
    "\n",
    "    def api_put(self, endpoint, data):\n",
    "        try:\n",
    "            url = f\"https://{self.url}/{endpoint}\"\n",
    "            headers = {\"authtoken\": self.authtoken}\n",
    "            response = requests.put(url, headers=headers, data=data, verify=False)\n",
    "            response.raise_for_status()\n",
    "            return response.json()\n",
    "        except requests.exceptions.RequestException as e:\n",
    "            return e\n",
    "\n",
    "    def get_requests(self, request_id=None, params=None):\n",
    "        if request_id is not None:\n",
    "            return self.api_get(endpoint=f\"api/v3/requests/{request_id}\")\n",
    "        return self.api_get(endpoint=\"api/v3/requests\")\n",
    "\n",
    "    def get_users(self, user_id=None, user_email=None):\n",
    "        if user_id is not None:\n",
    "            return self.api_get(endpoint=f\"api/v3/users/{user_id}\")\n",
    "        if user_email is not None:\n",
    "            input_data = json.dumps(\n",
    "                {\n",
    "                    \"list_info\": {\n",
    "                        \"get_total_count\": True,\n",
    "                        \"search_fields\": {\"email_id\": user_email},\n",
    "                    }\n",
    "                }\n",
    "            )\n",
    "            params = {\"input_data\": input_data}\n",
    "            return self.api_get(endpoint=\"api/v3/users\", params=params)\n",
    "        return self.api_get(endpoint=\"api/v3/users\")\n",
    "\n",
    "    def get_sites(self, site_id=None, params=None):\n",
    "        if site_id is not None:\n",
    "            return self.api_get(endpoint=f\"api/v3/sites/{site_id}\")\n",
    "        return self.api_get(endpoint=\"api/v3/sites\")\n",
    "\n",
    "    def get_technicians(self, technician_id=None, params=None):\n",
    "        if technician_id is not None:\n",
    "            return self.api_get(endpoint=f\"api/v3/technicians/{technician_id}\")\n",
    "        return self.api_get(endpoint=\"api/v3/technicians\")\n",
    "\n",
    "    def get_categories(self, category_id=None, params=None):\n",
    "        if category_id is not None:\n",
    "            return self.api_get(endpoint=f\"/api/v3/categories/{category_id}\")\n",
    "        return self.api_get(endpoint=\"api/v3/categories\")\n",
    "\n",
    "    def get_request_approval_levels(self, request_id, approval_level_id=None):\n",
    "        if approval_level_id is not None:\n",
    "            return self.api_get(\n",
    "                endpoint=f\"api/v3/requests/{request_id}/approval_levels/{approval_level_id}\"\n",
    "            )\n",
    "        return self.api_get(endpoint=f\"api/v3/requests/{request_id}/approval_levels\")\n",
    "\n",
    "    def delete_request_approval_levels(self, request_id, approval_level_id):\n",
    "        return self.api_get(\n",
    "            endpoint=f\"api/v3/requests/{request_id}/approval_levels/{approval_level_id}\"\n",
    "        )\n",
    "\n",
    "    def add_request_approval(self, request_id, approval_level_id, approver_id):\n",
    "        input_data = json.dumps({\"approval\": {\"approver\": {\"id\": approver_id}}})\n",
    "        payload = {\"input_data\": input_data}\n",
    "        return self.api_post(\n",
    "            endpoint=f\"api/v3/requests/{request_id}/approval_levels/{approval_level_id}/approvals\",\n",
    "            data=payload,\n",
    "        )\n",
    "\n",
    "    def delete_request_approval(self, request_id, approval_level_id, approval_id):\n",
    "        input_data = {}\n",
    "        payload = {\"input_data\": input_data}\n",
    "        return self.api_delete(\n",
    "            endpoint=f\"api/v3/requests/{request_id}/approval_levels/{approval_level_id}/approvals/{approval_id}\",\n",
    "            data=payload,\n",
    "        )\n",
    "\n",
    "    def send_notification_for_request_approval(\n",
    "        self, request_id, approval_level_id, approval_id\n",
    "    ):\n",
    "        input_data = json.dumps(\n",
    "            {\n",
    "                \"notification\": {\n",
    "                    \"subject\": \"Approval required for a Request\",\n",
    "                    \"description\": \"Your approval is required for a Request to act upon. The details of the Request can be found at $ApprovalLink\",\n",
    "                }\n",
    "            }\n",
    "        )\n",
    "        payload = {\"input_data\": input_data}\n",
    "        return self.api_put(\n",
    "            endpoint=f\"api/v3/requests/{request_id}/approval_levels/{approval_level_id}/approvals/{approval_id}/_send_notification\",\n",
    "            data=payload,\n",
    "        )\n",
    "\n",
    "    def get_request_approvals(self, request_id, approval_level_id, approval_id=None):\n",
    "        if approval_id is not None:\n",
    "            return self.api_get(\n",
    "                endpoint=f\"api/v3/requests/{request_id}/approval_levels/{approval_level_id}/approvals/{approval_id}\"\n",
    "            )\n",
    "        return self.api_get(\n",
    "            endpoint=f\"api/v3/requests/{request_id}/approval_levels/{approval_level_id}/approvals\"\n",
    "        )\n",
    "\n",
    "    def submit_for_approval(self, request_id, approver_id):\n",
    "        try:\n",
    "            request_details = self.get_requests(request_id=request_id, params=None)\n",
    "            request_subject = request_details.get(\"request\").get(\"subject\")\n",
    "            requester_name = request_details.get(\"request\").get(\"requester\").get(\"name\")\n",
    "            requester_email = (\n",
    "                request_details.get(\"request\").get(\"requester\").get(\"email_id\")\n",
    "            )\n",
    "            requester_mobile = (\n",
    "                request_details.get(\"request\").get(\"requester\").get(\"mobile\")\n",
    "            )\n",
    "            request_template = (\n",
    "                request_details.get(\"request\").get(\"udf_fields\").get(\"udf_sline_3019\")\n",
    "            )\n",
    "            notification_title = (\n",
    "                f\"Yêu cầu chờ phê duyệt {request_id} từ hotrocntt.cpc.vn\"\n",
    "            )\n",
    "            notification_description = f\"\"\"<div>\n",
    "                    Bạn có một yêu cầu phê duyệt với nội dung như sau:<br>\n",
    "                    - Người yêu cầu: {requester_name}<br>\n",
    "                    - Email: {requester_email}<br>\n",
    "                    - Mobile: {requester_mobile}<br><br>\n",
    "                    Nội dung yêu cầu:<br>\n",
    "                    - Phê duyệt khởi tạo cấu hình {request_template.upper()}<br>\n",
    "                    - Tiêu đề: {request_subject} <br>\n",
    "                    - Nội dung cấu hình xem tại: <a target=\"_blank\" href=\"https://nssa.dc.vn/servicedesk/citrix/{request_id}\">https://nssa.cpc.vn/servicedesk/{request_template}/{request_id}</a><br><br>\n",
    "                    \n",
    "                    Anh/Chị vui lòng truy cập link sau để xem chi tiết và thực hiện phê duyệt: <a target=\"_blank\" href=\"$ApprovalLink\">Phê Duyệt</a>\n",
    "                </div>\"\"\"\n",
    "            input_data = {\n",
    "                \"approvals\": [\n",
    "                    {\"approver\": {\"id\": approver}} for approver in approver_id\n",
    "                ],\n",
    "                \"notification\": {\n",
    "                    \"title\": notification_title,\n",
    "                    \"description\": notification_description,\n",
    "                },\n",
    "            }\n",
    "            payload = \"input_data=\" + urllib.parse.quote(json.dumps(input_data))\n",
    "            headers = {\n",
    "                \"Accept\": \"vnd.manageengine.v3+json\",\n",
    "                \"Content-Type\": \"application/x-www-form-urlencoded; charset=UTF-8\",\n",
    "                \"authtoken\": \"BB46BAAD-8F3B-47CA-900B-A4B83CA50314\",\n",
    "            }\n",
    "            url = f\"https://{self.url}/api/v3/requests/{request_id}/submit_for_approval\"\n",
    "            response = requests.request(\"POST\", url, headers=headers, data=payload)\n",
    "            response.raise_for_status()\n",
    "            return response.json()\n",
    "        except requests.exceptions.RequestException as e:\n",
    "            return e\n",
    "\n",
    "    def get_request_approval_status(self, request_id) -> dict:\n",
    "        request_details = self.get_requests(request_id=request_id)\n",
    "        if request_details.get(\"request\"):\n",
    "            return request_details.get(\"request\").get(\"approval_status\")\n",
    "        return {\"code\": 0, \"message\": request_details}\n",
    "    \n",
    "    def get_request_approver_list(self,request_id) -> dict:\n",
    "        has_more_rows = True\n",
    "        approver = []\n",
    "        while has_more_rows is True:\n",
    "            result = self.api_get(endpoint=f\"api/v3/requests/{request_id}/approval_levels/approvals/approver\")\n",
    "            if result.get(\"response_status\").get(\"status_code\") == 2000 and result.get(\"response_status\").get(\"status\") == \"success\":    \n",
    "                approver.extend(result.get(\"approver\"))\n",
    "                has_more_rows = result.get(\"list_info\").get(\"has_more_rows\")\n",
    "            else:\n",
    "                return {\"code\": 0, \"message\": \"error\"}\n",
    "        return approver"
   ]
  },
  {
   "attachments": {},
   "cell_type": "markdown",
   "metadata": {},
   "source": [
    "Khai API"
   ]
  },
  {
   "cell_type": "code",
   "execution_count": 7,
   "metadata": {},
   "outputs": [],
   "source": [
    "api_hotrocntt = HoTroCntt(\n",
    "    url=\"hotrocntt.cpc.vn\", authtoken=\"564C437D-62C0-4458-8B16-53847F2EEAD9\"\n",
    ")\n",
    "\n",
    "mysql_citrix = Citrix()"
   ]
  },
  {
   "cell_type": "code",
   "execution_count": null,
   "metadata": {},
   "outputs": [],
   "source": [
    "approver_list = api_hotrocntt.get_request_approver_list(request_id=\"108036\")"
   ]
  },
  {
   "attachments": {},
   "cell_type": "markdown",
   "metadata": {},
   "source": [
    "Khai request_id"
   ]
  },
  {
   "cell_type": "code",
   "execution_count": 12,
   "metadata": {},
   "outputs": [],
   "source": [
    "request_id = \"1080401\"\n",
    "servicedesk_request = mysql_citrix.get_servicedesk_citrix_request(\n",
    "        requestid=request_id\n",
    "    )\n",
    "if type(servicedesk_request) is not (dict or json):\n",
    "    print(False)"
   ]
  },
  {
   "cell_type": "code",
   "execution_count": 200,
   "metadata": {},
   "outputs": [
    {
     "data": {
      "text/plain": [
       "{'response_status': {'status_code': 2000, 'status': 'success'},\n",
       " 'submit_for_approval': {'approvals': [{'approver': {'email_id': 'TuanPA2@cpc.vn',\n",
       "     'phone': '0906307547',\n",
       "     'name': 'Phan Anh Tuấn (IT-KTM.CV)',\n",
       "     'mobile': '0906307547',\n",
       "     'profile_pic': {'content-url': '/images/default-profile-pic2.svg',\n",
       "      'name': 'default-profile-pic2.svg'},\n",
       "     'is_vipuser': False,\n",
       "     'id': '52834',\n",
       "     'department': {'site': {'name': 'CPCIT', 'id': 315},\n",
       "      'name': 'Phòng Kỹ thuật Mạng viễn thông',\n",
       "      'id': 7225}},\n",
       "    'comments': None,\n",
       "    'approval_level': {'request': {'id': '108040'},\n",
       "     'level': 1,\n",
       "     'purchase_order': None,\n",
       "     'release': None,\n",
       "     'change': None,\n",
       "     'name': 'Level One',\n",
       "     'id': '6926',\n",
       "     'status': {'id': '1'}},\n",
       "    'sent_on': {'display_value': 'May 31, 2023 10:50 PM',\n",
       "     'value': '1685548214017'},\n",
       "    'org_role': None,\n",
       "    'action_by': None,\n",
       "    'deleted': False,\n",
       "    'sent_by': {'email_id': 'TuanPA2@cpc.vn',\n",
       "     'phone': '0906307547',\n",
       "     'name': 'Phan Anh Tuấn (IT-KTM.CV)',\n",
       "     'mobile': '0906307547',\n",
       "     'profile_pic': {'content-url': '/images/default-profile-pic2.svg',\n",
       "      'name': 'default-profile-pic2.svg'},\n",
       "     'is_vipuser': False,\n",
       "     'id': '52834',\n",
       "     'department': {'site': {'name': 'CPCIT', 'id': 315},\n",
       "      'name': 'Phòng Kỹ thuật Mạng viễn thông',\n",
       "      'id': 7225}},\n",
       "    'id': '30726',\n",
       "    'obo_approver': None,\n",
       "    'email': 'TuanPA2@cpc.vn',\n",
       "    'status': {'name': 'Pending Approval', 'id': '1'},\n",
       "    'action_taken_on': None},\n",
       "   {'approver': {'email_id': 'lanhtv@cpc.vn',\n",
       "     'phone': '0901916189',\n",
       "     'name': 'Trần Văn Lanh (IT-KTM.CV)',\n",
       "     'mobile': '0901916189',\n",
       "     'profile_pic': {'content-url': '/images/default-profile-pic2.svg',\n",
       "      'name': 'default-profile-pic2.svg'},\n",
       "     'is_vipuser': False,\n",
       "     'id': '22503',\n",
       "     'department': {'site': {'name': 'CPCIT', 'id': 315},\n",
       "      'name': 'Phòng Kỹ thuật Mạng viễn thông',\n",
       "      'id': 7225}},\n",
       "    'comments': None,\n",
       "    'approval_level': {'request': {'id': '108040'},\n",
       "     'level': 1,\n",
       "     'purchase_order': None,\n",
       "     'release': None,\n",
       "     'change': None,\n",
       "     'name': 'Level One',\n",
       "     'id': '6926',\n",
       "     'status': {'id': '1'}},\n",
       "    'sent_on': {'display_value': 'May 31, 2023 10:50 PM',\n",
       "     'value': '1685548214017'},\n",
       "    'org_role': None,\n",
       "    'action_by': None,\n",
       "    'deleted': False,\n",
       "    'sent_by': {'email_id': 'TuanPA2@cpc.vn',\n",
       "     'phone': '0906307547',\n",
       "     'name': 'Phan Anh Tuấn (IT-KTM.CV)',\n",
       "     'mobile': '0906307547',\n",
       "     'profile_pic': {'content-url': '/images/default-profile-pic2.svg',\n",
       "      'name': 'default-profile-pic2.svg'},\n",
       "     'is_vipuser': False,\n",
       "     'id': '52834',\n",
       "     'department': {'site': {'name': 'CPCIT', 'id': 315},\n",
       "      'name': 'Phòng Kỹ thuật Mạng viễn thông',\n",
       "      'id': 7225}},\n",
       "    'id': '30727',\n",
       "    'obo_approver': None,\n",
       "    'email': 'lanhtv@cpc.vn',\n",
       "    'status': {'name': 'Pending Approval', 'id': '1'},\n",
       "    'action_taken_on': None}],\n",
       "  'notification_status': {'mail_sent_success_approvals': [30726, 30727],\n",
       "   'unresolved_org_roles': [],\n",
       "   'org_roles_already_resolved': [],\n",
       "   'mail_sent_failed_approvals': [],\n",
       "   'empty_email_approvals': []}}}"
      ]
     },
     "execution_count": 200,
     "metadata": {},
     "output_type": "execute_result"
    }
   ],
   "source": [
    "api_hotrocntt.submit_for_approval(request_id=request_id,approver_id=[\"52834\",\"22503\"])"
   ]
  },
  {
   "cell_type": "code",
   "execution_count": 14,
   "metadata": {},
   "outputs": [
    {
     "name": "stdout",
     "output_type": "stream",
     "text": [
      "aldskjfdf\n"
     ]
    }
   ],
   "source": [
    "class response:\n",
    "    success: bool\n",
    "    message: str\n",
    "\n",
    "a = response\n",
    "a.success = False\n",
    "a.message = \"aldskjfdf\"\n",
    "\n",
    "if a.success is False:\n",
    "    print(a.message)\n"
   ]
  },
  {
   "attachments": {},
   "cell_type": "markdown",
   "metadata": {},
   "source": [
    "Lấy thông tin request"
   ]
  },
  {
   "cell_type": "code",
   "execution_count": 186,
   "metadata": {},
   "outputs": [
    {
     "name": "stdout",
     "output_type": "stream",
     "text": [
      "{'name': 'Approved', 'id': '2'}\n"
     ]
    }
   ],
   "source": [
    "ticket = api_hotrocntt.get_request_approval_status(request_id=\"107893\")\n",
    "print(ticket)"
   ]
  },
  {
   "attachments": {},
   "cell_type": "markdown",
   "metadata": {},
   "source": [
    "Lấy danh sách approval levels"
   ]
  },
  {
   "cell_type": "code",
   "execution_count": 181,
   "metadata": {},
   "outputs": [
    {
     "name": "stdout",
     "output_type": "stream",
     "text": [
      "{\"response_status\": [{\"status_code\": 2000, \"status\": \"success\"}], \"approval_levels\": [{\"request\": {\"subject\": \"test citrix 4\", \"id\": \"108036\"}, \"comments\": null, \"level\": 1, \"associated_entity\": \"request\", \"release\": null, \"action_taken_by\": {\"email_id\": \"TuanPA2@cpc.vn\", \"phone\": \"0906307547\", \"name\": \"Phan Anh Tu\\u1ea5n (IT-KTM.CV)\", \"mobile\": \"0906307547\", \"profile_pic\": {\"content-url\": \"/images/default-profile-pic2.svg\", \"name\": \"default-profile-pic2.svg\"}, \"is_vipuser\": false, \"id\": \"52834\", \"department\": {\"site\": {\"name\": \"CPCIT\", \"id\": 315}, \"name\": \"Ph\\u00f2ng K\\u1ef9 thu\\u1eadt M\\u1ea1ng vi\\u1ec5n th\\u00f4ng\", \"id\": 7225}}, \"change\": null, \"rule\": {\"type\": \"template_configurations\", \"value\": \"all\"}, \"created_by\": {\"email_id\": \"TuanPA2@cpc.vn\", \"phone\": \"0906307547\", \"name\": \"Phan Anh Tu\\u1ea5n (IT-KTM.CV)\", \"mobile\": \"0906307547\", \"profile_pic\": {\"content-url\": \"/images/default-profile-pic2.svg\", \"name\": \"default-profile-pic2.svg\"}, \"is_vipuser\": false, \"id\": \"52834\", \"department\": {\"site\": {\"name\": \"CPCIT\", \"id\": 315}, \"name\": \"Ph\\u00f2ng K\\u1ef9 thu\\u1eadt M\\u1ea1ng vi\\u1ec5n th\\u00f4ng\", \"id\": 7225}}, \"deleted\": false, \"created_on\": {\"display_value\": \"May 31, 2023 06:59 PM\", \"value\": \"1685534392507\"}, \"purchase_order\": null, \"name\": \"Level One\", \"id\": \"6925\", \"is_current\": true, \"status\": {\"name\": \"Pending Approval\", \"id\": \"1\"}, \"action_taken_on\": {\"display_value\": \"May 31, 2023 06:59 PM\", \"value\": \"1685534393280\"}}], \"list_info\": {\"has_more_rows\": false, \"start_index\": 1, \"row_count\": 1}}\n",
      "['6925']\n"
     ]
    }
   ],
   "source": [
    "approval_levels = api_hotrocntt.get_request_approval_levels(request_id=request_id)\n",
    "print(json.dumps(approval_levels))\n",
    "approval_level_id = []\n",
    "for element in approval_levels.get(\"approval_levels\"):\n",
    "    approval_level_id.append(element.get(\"id\"))\n",
    "print(approval_level_id)"
   ]
  },
  {
   "attachments": {},
   "cell_type": "markdown",
   "metadata": {},
   "source": [
    "Tạo approval"
   ]
  },
  {
   "cell_type": "code",
   "execution_count": 54,
   "metadata": {},
   "outputs": [
    {
     "name": "stdout",
     "output_type": "stream",
     "text": [
      "404 Client Error:  for url: https://hotrocntt.cpc.vn/api/v3/requests/107986/approval_levels/6913/approvals\n"
     ]
    }
   ],
   "source": [
    "add_approval = api_hotrocntt.add_request_approval(request_id=request_id,approval_level_id=6913,approver_id=52834)\n",
    "print(add_approval)"
   ]
  },
  {
   "attachments": {},
   "cell_type": "markdown",
   "metadata": {},
   "source": [
    "Lấy approval_id"
   ]
  },
  {
   "cell_type": "code",
   "execution_count": null,
   "metadata": {},
   "outputs": [],
   "source": [
    "print(add_approval.get(\"approval\").get(\"id\"))"
   ]
  },
  {
   "cell_type": "code",
   "execution_count": 26,
   "metadata": {},
   "outputs": [
    {
     "name": "stdout",
     "output_type": "stream",
     "text": [
      "404 Client Error:  for url: https://hotrocntt.cpc.vn/api/v3/requests/107904/approval_levels/6913/approvals/30701/send_notification\n"
     ]
    }
   ],
   "source": [
    "send_approval = api_hotrocntt.send_notification_for_request_approval(request_id='107904',approval_level_id='6913',approval_id='30701')\n",
    "print(send_approval)"
   ]
  },
  {
   "attachments": {},
   "cell_type": "markdown",
   "metadata": {},
   "source": [
    "Lấy thông tin người dùng theo email:"
   ]
  },
  {
   "cell_type": "code",
   "execution_count": 141,
   "metadata": {},
   "outputs": [
    {
     "name": "stdout",
     "output_type": "stream",
     "text": [
      "{'email_id': 'lanhtv@cpc.vn', 'id': '22503', 'is_technician': True, 'login_name': 'lanhtv', 'name': 'Trần Văn Lanh'}\n"
     ]
    }
   ],
   "source": [
    "users = api_hotrocntt.get_users(user_email=\"lanhtv@cpc.vn\")\n",
    "for user in users.get(\"users\"):\n",
    "    a = {\n",
    "        \"email_id\": user.get(\"email_id\"),\n",
    "        \"id\": user.get(\"id\"),\n",
    "        \"is_technician\": user.get(\"is_technician\"),\n",
    "        \"login_name\": user.get(\"login_name\"),\n",
    "        \"name\": f\"{user.get('last_name')} {user.get('first_name')}\"\n",
    "    }\n",
    "    print(a)"
   ]
  },
  {
   "attachments": {},
   "cell_type": "markdown",
   "metadata": {},
   "source": [
    "Lấy danh sách approvals"
   ]
  },
  {
   "cell_type": "code",
   "execution_count": 5,
   "metadata": {},
   "outputs": [
    {
     "name": "stdout",
     "output_type": "stream",
     "text": [
      "['30697', '30698', '30699']\n"
     ]
    }
   ],
   "source": [
    "approval = api_hotrocntt.get_request_approvals(request_id=request_id,approval_level_id=6913)\n",
    "with open(\"approvals.json\", mode=\"w\") as f:\n",
    "    f.write(json.dumps(approval,indent=4))\n",
    "approval_id = []\n",
    "for element in approval.get(\"approvals\"):\n",
    "    approval_id.append(element.get(\"id\"))\n",
    "print(approval_id)"
   ]
  },
  {
   "cell_type": "code",
   "execution_count": 6,
   "metadata": {},
   "outputs": [
    {
     "name": "stdout",
     "output_type": "stream",
     "text": [
      "[{'id': '30697', 'status': {'name': 'Approved', 'id': '2'}, 'deleted': False}, {'id': '30698', 'status': {'name': 'Pending Approval', 'id': '1'}, 'deleted': False}, {'id': '30699', 'status': {'name': 'Pending Approval', 'id': '1'}, 'deleted': True}]\n"
     ]
    }
   ],
   "source": [
    "final_data = []\n",
    "keys = [\"id\",\"status\",\"deleted\"]\n",
    "for item in approval_id:\n",
    "    a = {}\n",
    "    for key in keys:\n",
    "        a[key] =  api_hotrocntt.get_request_approvals(request_id=107904,approval_level_id=6913,approval_id=item).get(\"approval\").get(key)\n",
    "    final_data.append(a)\n",
    "print(final_data)"
   ]
  },
  {
   "attachments": {},
   "cell_type": "markdown",
   "metadata": {},
   "source": [
    "Xóa request"
   ]
  }
 ],
 "metadata": {
  "kernelspec": {
   "display_name": "Python 3 (ipykernel)",
   "language": "python",
   "name": "python3"
  },
  "language_info": {
   "codemirror_mode": {
    "name": "ipython",
    "version": 3
   },
   "file_extension": ".py",
   "mimetype": "text/x-python",
   "name": "python",
   "nbconvert_exporter": "python",
   "pygments_lexer": "ipython3",
   "version": "3.11.3"
  }
 },
 "nbformat": 4,
 "nbformat_minor": 4
}
